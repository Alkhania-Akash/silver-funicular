{
 "cells": [
  {
   "cell_type": "code",
   "execution_count": 1,
   "id": "87a9c0cd",
   "metadata": {},
   "outputs": [
    {
     "name": "stdout",
     "output_type": "stream",
     "text": [
      "Hello world\n"
     ]
    }
   ],
   "source": [
    "print(\"Hello world\")"
   ]
  },
  {
   "cell_type": "markdown",
   "id": "480a0ada",
   "metadata": {},
   "source": [
    "#Heading"
   ]
  },
  {
   "cell_type": "code",
   "execution_count": 5,
   "id": "097e79b0",
   "metadata": {},
   "outputs": [
    {
     "name": "stdout",
     "output_type": "stream",
     "text": [
      "<class 'int'>\n"
     ]
    }
   ],
   "source": [
    "x = 4\n",
    "print(type(x))"
   ]
  },
  {
   "cell_type": "code",
   "execution_count": 7,
   "id": "6bee6eac",
   "metadata": {},
   "outputs": [],
   "source": [
    "import keyword"
   ]
  },
  {
   "cell_type": "code",
   "execution_count": 8,
   "id": "b7b14bbc",
   "metadata": {},
   "outputs": [
    {
     "data": {
      "text/plain": [
       "['False',\n",
       " 'None',\n",
       " 'True',\n",
       " 'and',\n",
       " 'as',\n",
       " 'assert',\n",
       " 'async',\n",
       " 'await',\n",
       " 'break',\n",
       " 'class',\n",
       " 'continue',\n",
       " 'def',\n",
       " 'del',\n",
       " 'elif',\n",
       " 'else',\n",
       " 'except',\n",
       " 'finally',\n",
       " 'for',\n",
       " 'from',\n",
       " 'global',\n",
       " 'if',\n",
       " 'import',\n",
       " 'in',\n",
       " 'is',\n",
       " 'lambda',\n",
       " 'nonlocal',\n",
       " 'not',\n",
       " 'or',\n",
       " 'pass',\n",
       " 'raise',\n",
       " 'return',\n",
       " 'try',\n",
       " 'while',\n",
       " 'with',\n",
       " 'yield']"
      ]
     },
     "execution_count": 8,
     "metadata": {},
     "output_type": "execute_result"
    }
   ],
   "source": [
    "keyword.kwlist"
   ]
  },
  {
   "cell_type": "code",
   "execution_count": 9,
   "id": "0fdd26ce",
   "metadata": {},
   "outputs": [],
   "source": [
    "  var=5"
   ]
  },
  {
   "cell_type": "code",
   "execution_count": 14,
   "id": "6b911812",
   "metadata": {},
   "outputs": [
    {
     "name": "stdout",
     "output_type": "stream",
     "text": [
      "Enter a value 5\n"
     ]
    }
   ],
   "source": [
    "a = int(input(\"Enter a value \"))"
   ]
  },
  {
   "cell_type": "code",
   "execution_count": 15,
   "id": "caee262d",
   "metadata": {},
   "outputs": [
    {
     "data": {
      "text/plain": [
       "int"
      ]
     },
     "execution_count": 15,
     "metadata": {},
     "output_type": "execute_result"
    }
   ],
   "source": [
    "type(a)"
   ]
  },
  {
   "cell_type": "code",
   "execution_count": 7,
   "id": "5c4b0a74",
   "metadata": {},
   "outputs": [
    {
     "name": "stdout",
     "output_type": "stream",
     "text": [
      "Enter the side of the square 4\n",
      "16\n"
     ]
    }
   ],
   "source": [
    "s = int(input(\"Enter the side of the square \"))\n",
    "area = s*s\n",
    "print(area)"
   ]
  },
  {
   "cell_type": "code",
   "execution_count": 10,
   "id": "0d920fa7",
   "metadata": {},
   "outputs": [
    {
     "name": "stdout",
     "output_type": "stream",
     "text": [
      "Enter the height of the traingle 10\n",
      "Enter the base of the traingle 5\n",
      "25.0\n"
     ]
    }
   ],
   "source": [
    "h = int(input(\"Enter the height of the traingle \"))\n",
    "b = int(input(\"Enter the base of the traingle \"))\n",
    "area = (b*h)/1/2\n",
    "print(area)"
   ]
  },
  {
   "cell_type": "code",
   "execution_count": 14,
   "id": "98cc7319",
   "metadata": {},
   "outputs": [
    {
     "name": "stdout",
     "output_type": "stream",
     "text": [
      "Enter the Principal 4000\n",
      "Enter the rate of interest 5\n",
      "Enter the time 3\n",
      "600.0\n"
     ]
    }
   ],
   "source": [
    "p = int(input(\"Enter the Principal \"))\n",
    "r = int(input(\"Enter the rate of interest \"))\n",
    "t = int(input(\"Enter the time \"))\n",
    "si = (p*r*t)/100\n",
    "print(si)"
   ]
  },
  {
   "cell_type": "code",
   "execution_count": 19,
   "id": "22dc15c1",
   "metadata": {
    "scrolled": true
   },
   "outputs": [
    {
     "name": "stdout",
     "output_type": "stream",
     "text": [
      "Enter the Principal 4000\n",
      "Enter the rate of interest 5\n",
      "Enter the time 3\n"
     ]
    },
    {
     "ename": "TypeError",
     "evalue": "'int' object is not callable",
     "output_type": "error",
     "traceback": [
      "\u001b[1;31m---------------------------------------------------------------------------\u001b[0m",
      "\u001b[1;31mTypeError\u001b[0m                                 Traceback (most recent call last)",
      "\u001b[1;32m<ipython-input-19-df01e6f93665>\u001b[0m in \u001b[0;36m<module>\u001b[1;34m\u001b[0m\n\u001b[0;32m      2\u001b[0m \u001b[0mr\u001b[0m \u001b[1;33m=\u001b[0m \u001b[0mint\u001b[0m\u001b[1;33m(\u001b[0m\u001b[0minput\u001b[0m\u001b[1;33m(\u001b[0m\u001b[1;34m\"Enter the rate of interest \"\u001b[0m\u001b[1;33m)\u001b[0m\u001b[1;33m)\u001b[0m\u001b[1;33m\u001b[0m\u001b[1;33m\u001b[0m\u001b[0m\n\u001b[0;32m      3\u001b[0m \u001b[0mn\u001b[0m \u001b[1;33m=\u001b[0m \u001b[0mint\u001b[0m\u001b[1;33m(\u001b[0m\u001b[0minput\u001b[0m\u001b[1;33m(\u001b[0m\u001b[1;34m\"Enter the time \"\u001b[0m\u001b[1;33m)\u001b[0m\u001b[1;33m)\u001b[0m\u001b[1;33m\u001b[0m\u001b[1;33m\u001b[0m\u001b[0m\n\u001b[1;32m----> 4\u001b[1;33m \u001b[0mci\u001b[0m \u001b[1;33m=\u001b[0m \u001b[0mp\u001b[0m\u001b[1;33m(\u001b[0m\u001b[1;36m1\u001b[0m \u001b[1;33m+\u001b[0m \u001b[1;33m(\u001b[0m\u001b[0mr\u001b[0m\u001b[1;33m/\u001b[0m\u001b[1;36m100\u001b[0m\u001b[1;33m)\u001b[0m\u001b[1;33m)\u001b[0m\u001b[1;33m^\u001b[0m\u001b[0mn\u001b[0m\u001b[1;33m\u001b[0m\u001b[1;33m\u001b[0m\u001b[0m\n\u001b[0m\u001b[0;32m      5\u001b[0m \u001b[0mprint\u001b[0m\u001b[1;33m(\u001b[0m\u001b[0mci\u001b[0m\u001b[1;33m)\u001b[0m\u001b[1;33m\u001b[0m\u001b[1;33m\u001b[0m\u001b[0m\n",
      "\u001b[1;31mTypeError\u001b[0m: 'int' object is not callable"
     ]
    }
   ],
   "source": [
    "p = int(input(\"Enter the Principal \"))\n",
    "r = int(input(\"Enter the rate of interest \"))\n",
    "n = int(input(\"Enter the time \"))\n",
    "ci = p(1 + (r/100))^n\n",
    "print(ci)"
   ]
  },
  {
   "cell_type": "code",
   "execution_count": 21,
   "id": "ecbe7065",
   "metadata": {},
   "outputs": [
    {
     "name": "stdout",
     "output_type": "stream",
     "text": [
      "Enter the purchase price 50\n",
      "Enter the selling price 60\n",
      "You have made profit of  10.0\n"
     ]
    }
   ],
   "source": [
    "p = float(input(\"Enter the purchase price \"))\n",
    "s = float(input(\"Enter the selling price \"))\n",
    "profit = s - p\n",
    "print(\"You have made profit of \", profit)"
   ]
  },
  {
   "cell_type": "code",
   "execution_count": 22,
   "id": "75577799",
   "metadata": {},
   "outputs": [
    {
     "name": "stdout",
     "output_type": "stream",
     "text": [
      "Enter the purchase price 20\n",
      "Enter the selling price 15\n",
      "You have made loss of  5.0\n"
     ]
    }
   ],
   "source": [
    "p = float(input(\"Enter the purchase price \"))\n",
    "s = float(input(\"Enter the selling price \"))\n",
    "loss = p - s\n",
    "print(\"You have made loss of \", loss)"
   ]
  },
  {
   "cell_type": "code",
   "execution_count": null,
   "id": "35d6c560",
   "metadata": {},
   "outputs": [],
   "source": [
    "p = float(input(\"Enter the purchase price \"))\n",
    "s = float(input(\"Enter the selling price \"))\n",
    "if s>p:\n",
    "    pf = s-p\n",
    "    p_p = pf/p*100\n",
    "    print(\"You have made profit of \", pf)\n",
    "    print(\"You have made profit % of \", p_p)\n",
    "elif p == s:\n",
    "    print(\"No profit No loss \")\n",
    "else:\n",
    "    p>s\n",
    "    l = p-s\n",
    "    l_p = l/p*100\n",
    "    print(\"You have made loss of \", l)\n",
    "    print(\"You have made loss % of \", l_p)"
   ]
  },
  {
   "cell_type": "code",
   "execution_count": 23,
   "id": "3e23be1f",
   "metadata": {},
   "outputs": [
    {
     "name": "stdout",
     "output_type": "stream",
     "text": [
      "Enter the number11\n",
      "Number is odd\n"
     ]
    }
   ],
   "source": [
    "n = int(input(\"Enter the number\"))\n",
    "if n%2==0:\n",
    "    print(\"number is even\")\n",
    "else:\n",
    "    print(\"Number is odd\")"
   ]
  },
  {
   "cell_type": "code",
   "execution_count": 25,
   "id": "6ac4e5cc",
   "metadata": {},
   "outputs": [
    {
     "name": "stdout",
     "output_type": "stream",
     "text": [
      "Enter the number-2\n",
      "number is negative\n"
     ]
    }
   ],
   "source": [
    "n  = int(input(\"Enter the number\"))\n",
    "if n>0:\n",
    "    print(\"Number is positive\")\n",
    "else:\n",
    "    print(\"number is negative\")"
   ]
  },
  {
   "cell_type": "code",
   "execution_count": 40,
   "id": "c15d0594",
   "metadata": {},
   "outputs": [
    {
     "name": "stdout",
     "output_type": "stream",
     "text": [
      "Enter your salary 25000000\n",
      "You have to pay income tax of rupees 2500000.0\n"
     ]
    }
   ],
   "source": [
    "salary = int(input(\"Enter your salary \"))\n",
    "if salary>500000>100000:\n",
    "    incometax = salary*0.10\n",
    "    print(\"You have to pay income tax of rupees\", incometax)\n",
    "    if salary>100000>1500000:\n",
    "        incometax = salary*0.15\n",
    "        print(\"You have to pay income tax of rupees\", incometax)\n",
    "        if salary>1500000:\n",
    "            incometax = salary*0.20\n",
    "            print(\"You have to pay income tax of rupees\", incometax)\n",
    "else:\n",
    "    print(\"Youuu are out of the income tax slab\")"
   ]
  },
  {
   "cell_type": "markdown",
   "id": "c04fc0af",
   "metadata": {},
   "source": [
    "Budget = int(input(\"Enter your budget \"))\n",
    "if Budget>500:\n",
    "    dest = Budget ('Place Goa')\n",
    "    print(\"Your destination will be \", dest)\n",
    "else:\n",
    "    print(\"You are out of budget \")"
   ]
  },
  {
   "cell_type": "code",
   "execution_count": 79,
   "id": "411ea7fe",
   "metadata": {},
   "outputs": [
    {
     "name": "stdout",
     "output_type": "stream",
     "text": [
      "Enter the number 5\n",
      "modulus of number is 5\n"
     ]
    }
   ],
   "source": [
    "n = int(input(\"Enter the number \"))\n",
    "if n<0:\n",
    "    modulus = n*(-1)\n",
    "    print(\"Modulus of number is \", modulus)\n",
    "else:\n",
    "    print(\"modulus of number is\", modulus)"
   ]
  },
  {
   "cell_type": "code",
   "execution_count": 85,
   "id": "456454d6",
   "metadata": {},
   "outputs": [
    {
     "name": "stdout",
     "output_type": "stream",
     "text": [
      "Enter the first number 6\n",
      "Enter the second number 5\n",
      "Number is greatest 6\n",
      "Number is smallest 5\n"
     ]
    }
   ],
   "source": [
    "n1 = int(input(\"Enter the first number \"))\n",
    "n2 = int(input(\"Enter the second number \"))\n",
    "if n1>n2:\n",
    "    print(\"Number is greatest\", n1)\n",
    "    print(\"Number is smallest\", n2)\n",
    "elif n1 == n2:\n",
    "    print(\"Both number are equals\")\n",
    "else:\n",
    "    print(\"Number is greatest\", n2)\n",
    "    print(\"Number is smallest\", n1)"
   ]
  },
  {
   "cell_type": "code",
   "execution_count": 88,
   "id": "922c9383",
   "metadata": {},
   "outputs": [
    {
     "name": "stdout",
     "output_type": "stream",
     "text": [
      "Enter the first number 5\n",
      "Enter the second number 4\n",
      "Enter the third number 3\n",
      "Number is greatest 3\n",
      "Number is smallest 5\n"
     ]
    }
   ],
   "source": [
    "n1 = int(input(\"Enter the first number \"))\n",
    "n2 = int(input(\"Enter the second number \"))\n",
    "n3 = int(input(\"Enter the third number \"))\n",
    "if n1>n2:\n",
    "    if n1>n3:\n",
    "    print(\"Number is greatest\", n1)\n",
    "    else:\n",
    "    print(\"Number is smallest\", n)\n",
    "    if n1>n2 and n1<n3:\n",
    "        print(\"Number is greatest\", n3)\n",
    "        print(\"Number is smallest\", n2)\n",
    "        \n",
    "elif n1 == n2 == n3:\n",
    "    print(\"Both number are equals\")\n",
    "else:\n",
    "    n1<n2 and n2<n3\n",
    "    print(\"Number is greatest\", n3)\n",
    "    print(\"Number is smallest\", n1)"
   ]
  },
  {
   "cell_type": "code",
   "execution_count": null,
   "id": "b4c889c5",
   "metadata": {},
   "outputs": [],
   "source": []
  },
  {
   "cell_type": "markdown",
   "id": "904ff7aa",
   "metadata": {},
   "source": [
    "a = int(input(\"Enter your age \"))\n",
    "ans = input(\"Do you have license (Yes/No)\")\n",
    "if a<18:\n",
    "    if ans == 'Yes':\n",
    "        print(\"You are eligible for driving\")\n",
    "    else:\n",
    "        print(\"You are not eligible for driving\")\n",
    "else:\n",
    "    a<18\n",
    "    print(\"You can only drive when you get the license\")"
   ]
  },
  {
   "cell_type": "markdown",
   "id": "12b7b1a9",
   "metadata": {},
   "source": [
    "# Loops\n",
    "\n",
    "## SYNTAX FOR\n",
    "for i in range ():\n"
   ]
  },
  {
   "cell_type": "code",
   "execution_count": 111,
   "id": "575c91bb",
   "metadata": {},
   "outputs": [
    {
     "name": "stdout",
     "output_type": "stream",
     "text": [
      "Odd 1\n",
      "Even 2\n",
      "Odd 3\n",
      "Even 4\n",
      "Odd 5\n",
      "Even 6\n",
      "Odd 7\n",
      "Even 8\n",
      "Odd 9\n",
      "Even 10\n"
     ]
    }
   ],
   "source": [
    "n = 10\n",
    "for i in range (1,n+1):\n",
    "    if i % 2==0:\n",
    "        print(\"Even\",i)\n",
    "    else:\n",
    "        print(\"Odd\",i)"
   ]
  },
  {
   "cell_type": "code",
   "execution_count": 114,
   "id": "f4e90b4f",
   "metadata": {},
   "outputs": [
    {
     "name": "stdout",
     "output_type": "stream",
     "text": [
      "Sum of n Natural numbers 55\n"
     ]
    }
   ],
   "source": [
    "n = 10\n",
    "s = 0\n",
    "for i in range(1, n+1):\n",
    "    s+=i\n",
    "print(\"Sum of n Natural numbers\", s)"
   ]
  },
  {
   "cell_type": "code",
   "execution_count": 116,
   "id": "7577cd06",
   "metadata": {},
   "outputs": [
    {
     "name": "stdout",
     "output_type": "stream",
     "text": [
      "Factorial of 5 is  120\n"
     ]
    }
   ],
   "source": [
    "n = 5\n",
    "s = 1\n",
    "for i in range(1, n+1):\n",
    "    s*=i\n",
    "print(\"Factorial of 5 is \", s)"
   ]
  },
  {
   "cell_type": "code",
   "execution_count": 122,
   "id": "3d37ed8b",
   "metadata": {},
   "outputs": [
    {
     "name": "stdout",
     "output_type": "stream",
     "text": [
      "Enter the number table 5\n",
      "5 x 1 = 5\n",
      "5 x 2 = 10\n",
      "5 x 3 = 15\n",
      "5 x 4 = 20\n",
      "5 x 5 = 25\n",
      "5 x 6 = 30\n",
      "5 x 7 = 35\n",
      "5 x 8 = 40\n",
      "5 x 9 = 45\n",
      "5 x 10 = 50\n"
     ]
    }
   ],
   "source": [
    "n = int(input(\"Enter the number table \"))\n",
    "f = 10\n",
    "s = 0\n",
    "for i in range(1, f+1):\n",
    "    s = n * i\n",
    "    print(n, \"x\",i,\"=\", s)"
   ]
  },
  {
   "cell_type": "markdown",
   "id": "838b5b15",
   "metadata": {},
   "source": [
    "## Nested for loop"
   ]
  },
  {
   "cell_type": "code",
   "execution_count": 123,
   "id": "a6deb59a",
   "metadata": {},
   "outputs": [
    {
     "name": "stdout",
     "output_type": "stream",
     "text": [
      "* * * \n",
      "* * * \n",
      "* * * \n"
     ]
    }
   ],
   "source": [
    "for i in range(3):\n",
    "    for j in range(3):\n",
    "        print(\"*\",end=\" \")\n",
    "    print()"
   ]
  },
  {
   "cell_type": "code",
   "execution_count": 125,
   "id": "bcb890b2",
   "metadata": {},
   "outputs": [
    {
     "name": "stdout",
     "output_type": "stream",
     "text": [
      "* * * * \n",
      "* * * * \n",
      "* * * * \n",
      "* * * * \n"
     ]
    }
   ],
   "source": [
    "for i in range(4):\n",
    "    for j in range(4):\n",
    "        print(\"*\",end=\" \")\n",
    "    print()"
   ]
  },
  {
   "cell_type": "code",
   "execution_count": 132,
   "id": "a9ebb071",
   "metadata": {},
   "outputs": [
    {
     "name": "stdout",
     "output_type": "stream",
     "text": [
      "* \n",
      "* * \n",
      "* * * \n",
      "* * * * \n"
     ]
    }
   ],
   "source": [
    "for i in range(1):\n",
    "    for j in range(1):\n",
    "        print(\"*\",end=\" \")\n",
    "    print()\n",
    "    for k in range(2):\n",
    "        print(\"*\",end=\" \")\n",
    "    print()\n",
    "    for l in range(3):\n",
    "        print(\"*\",end=\" \")\n",
    "    print()\n",
    "    for m in range(4):\n",
    "        print(\"*\",end=\" \")\n",
    "    print()"
   ]
  },
  {
   "cell_type": "code",
   "execution_count": 133,
   "id": "721a85e9",
   "metadata": {},
   "outputs": [
    {
     "name": "stdout",
     "output_type": "stream",
     "text": [
      "* * * * \n",
      "* * * \n",
      "* * \n",
      "* \n"
     ]
    }
   ],
   "source": [
    "for i in range(1):\n",
    "    for j in range(4):\n",
    "        print(\"*\",end=\" \")\n",
    "    print()\n",
    "    for k in range(3):\n",
    "        print(\"*\",end=\" \")\n",
    "    print()\n",
    "    for l in range(2):\n",
    "        print(\"*\",end=\" \")\n",
    "    print()\n",
    "    for m in range(1):\n",
    "        print(\"*\",end=\" \")\n",
    "    print()"
   ]
  },
  {
   "cell_type": "code",
   "execution_count": 134,
   "id": "a67480f5",
   "metadata": {},
   "outputs": [
    {
     "name": "stdout",
     "output_type": "stream",
     "text": [
      "* \n",
      "* * * \n",
      "* * * * * \n",
      "* * * * * * * \n"
     ]
    }
   ],
   "source": [
    "for i in range(1):\n",
    "    for j in range(1):\n",
    "        print(\"*\",end=\" \")\n",
    "    print()\n",
    "    for k in range(3):\n",
    "        print(\"*\",end=\" \")\n",
    "    print()\n",
    "    for l in range(5):\n",
    "        print(\"*\",end=\" \")\n",
    "    print()\n",
    "    for m in range(7):\n",
    "        print(\"*\",end=\" \")\n",
    "    print()"
   ]
  },
  {
   "cell_type": "code",
   "execution_count": 139,
   "id": "c327aba0",
   "metadata": {},
   "outputs": [
    {
     "name": "stdout",
     "output_type": "stream",
     "text": [
      "enter the rows 5\n",
      "*  \n",
      "* *  \n",
      "* * *  \n",
      "* * * *  \n",
      "* * * * *  \n"
     ]
    }
   ],
   "source": [
    "n = int(input(\"enter the rows \"))\n",
    "\n",
    "for i in range(1,n+1):\n",
    "    for j in range(i):\n",
    "        print(\"*\",end=\" \")\n",
    "    print(\" \")"
   ]
  },
  {
   "cell_type": "code",
   "execution_count": 140,
   "id": "ef28b2ce",
   "metadata": {},
   "outputs": [
    {
     "name": "stdout",
     "output_type": "stream",
     "text": [
      "enter the rows 5\n",
      "* * * * *  \n",
      "* * * *  \n",
      "* * *  \n",
      "* *  \n",
      "*  \n"
     ]
    }
   ],
   "source": [
    "n = int(input(\"enter the rows \"))\n",
    "\n",
    "for i in range(n,0,-1):\n",
    "    for j in range(i):\n",
    "        print(\"*\",end=\" \")\n",
    "    print(\" \")"
   ]
  },
  {
   "cell_type": "code",
   "execution_count": null,
   "id": "844a7b0b",
   "metadata": {},
   "outputs": [],
   "source": [
    "## While loop\n",
    "\n",
    "Syntax\n",
    "vat initilization\n",
    "while(condition):\n",
    "    statement\n",
    "    decrement/increment"
   ]
  },
  {
   "cell_type": "code",
   "execution_count": 143,
   "id": "4c1c2331",
   "metadata": {},
   "outputs": [
    {
     "name": "stdout",
     "output_type": "stream",
     "text": [
      "1\n",
      "2\n",
      "3\n",
      "4\n",
      "5\n",
      "6\n",
      "7\n",
      "8\n",
      "9\n",
      "10\n",
      "Rest of the code\n"
     ]
    }
   ],
   "source": [
    "a = 1\n",
    "while a<=10:\n",
    "    print(a)\n",
    "    a+=1\n",
    "print(\"Rest of the code\")"
   ]
  },
  {
   "cell_type": "code",
   "execution_count": null,
   "id": "8c1a0e56",
   "metadata": {},
   "outputs": [],
   "source": []
  }
 ],
 "metadata": {
  "kernelspec": {
   "display_name": "Python 3",
   "language": "python",
   "name": "python3"
  },
  "language_info": {
   "codemirror_mode": {
    "name": "ipython",
    "version": 3
   },
   "file_extension": ".py",
   "mimetype": "text/x-python",
   "name": "python",
   "nbconvert_exporter": "python",
   "pygments_lexer": "ipython3",
   "version": "3.8.8"
  }
 },
 "nbformat": 4,
 "nbformat_minor": 5
}
