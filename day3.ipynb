{
 "cells": [
  {
   "cell_type": "code",
   "execution_count": 1,
   "id": "87a9c0cd",
   "metadata": {},
   "outputs": [
    {
     "name": "stdout",
     "output_type": "stream",
     "text": [
      "Hello world\n"
     ]
    }
   ],
   "source": [
    "print(\"Hello world\")"
   ]
  },
  {
   "cell_type": "markdown",
   "id": "480a0ada",
   "metadata": {},
   "source": [
    "#Heading"
   ]
  },
  {
   "cell_type": "code",
   "execution_count": 5,
   "id": "097e79b0",
   "metadata": {},
   "outputs": [
    {
     "name": "stdout",
     "output_type": "stream",
     "text": [
      "<class 'int'>\n"
     ]
    }
   ],
   "source": [
    "x = 4\n",
    "print(type(x))"
   ]
  },
  {
   "cell_type": "code",
   "execution_count": 7,
   "id": "6bee6eac",
   "metadata": {},
   "outputs": [],
   "source": [
    "import keyword"
   ]
  },
  {
   "cell_type": "code",
   "execution_count": 8,
   "id": "b7b14bbc",
   "metadata": {},
   "outputs": [
    {
     "data": {
      "text/plain": [
       "['False',\n",
       " 'None',\n",
       " 'True',\n",
       " 'and',\n",
       " 'as',\n",
       " 'assert',\n",
       " 'async',\n",
       " 'await',\n",
       " 'break',\n",
       " 'class',\n",
       " 'continue',\n",
       " 'def',\n",
       " 'del',\n",
       " 'elif',\n",
       " 'else',\n",
       " 'except',\n",
       " 'finally',\n",
       " 'for',\n",
       " 'from',\n",
       " 'global',\n",
       " 'if',\n",
       " 'import',\n",
       " 'in',\n",
       " 'is',\n",
       " 'lambda',\n",
       " 'nonlocal',\n",
       " 'not',\n",
       " 'or',\n",
       " 'pass',\n",
       " 'raise',\n",
       " 'return',\n",
       " 'try',\n",
       " 'while',\n",
       " 'with',\n",
       " 'yield']"
      ]
     },
     "execution_count": 8,
     "metadata": {},
     "output_type": "execute_result"
    }
   ],
   "source": [
    "keyword.kwlist"
   ]
  },
  {
   "cell_type": "code",
   "execution_count": 9,
   "id": "0fdd26ce",
   "metadata": {},
   "outputs": [],
   "source": [
    "  var=5"
   ]
  },
  {
   "cell_type": "code",
   "execution_count": 14,
   "id": "6b911812",
   "metadata": {},
   "outputs": [
    {
     "name": "stdout",
     "output_type": "stream",
     "text": [
      "Enter a value 5\n"
     ]
    }
   ],
   "source": [
    "a = int(input(\"Enter a value \"))"
   ]
  },
  {
   "cell_type": "code",
   "execution_count": 15,
   "id": "caee262d",
   "metadata": {},
   "outputs": [
    {
     "data": {
      "text/plain": [
       "int"
      ]
     },
     "execution_count": 15,
     "metadata": {},
     "output_type": "execute_result"
    }
   ],
   "source": [
    "type(a)"
   ]
  },
  {
   "cell_type": "code",
   "execution_count": 7,
   "id": "5c4b0a74",
   "metadata": {},
   "outputs": [
    {
     "name": "stdout",
     "output_type": "stream",
     "text": [
      "Enter the side of the square 4\n",
      "16\n"
     ]
    }
   ],
   "source": [
    "s = int(input(\"Enter the side of the square \"))\n",
    "area = s*s\n",
    "print(area)"
   ]
  },
  {
   "cell_type": "code",
   "execution_count": 10,
   "id": "0d920fa7",
   "metadata": {},
   "outputs": [
    {
     "name": "stdout",
     "output_type": "stream",
     "text": [
      "Enter the height of the traingle 10\n",
      "Enter the base of the traingle 5\n",
      "25.0\n"
     ]
    }
   ],
   "source": [
    "h = int(input(\"Enter the height of the traingle \"))\n",
    "b = int(input(\"Enter the base of the traingle \"))\n",
    "area = (b*h)/1/2\n",
    "print(area)"
   ]
  },
  {
   "cell_type": "code",
   "execution_count": 14,
   "id": "98cc7319",
   "metadata": {},
   "outputs": [
    {
     "name": "stdout",
     "output_type": "stream",
     "text": [
      "Enter the Principal 4000\n",
      "Enter the rate of interest 5\n",
      "Enter the time 3\n",
      "600.0\n"
     ]
    }
   ],
   "source": [
    "p = int(input(\"Enter the Principal \"))\n",
    "r = int(input(\"Enter the rate of interest \"))\n",
    "t = int(input(\"Enter the time \"))\n",
    "si = (p*r*t)/100\n",
    "print(si)"
   ]
  },
  {
   "cell_type": "code",
   "execution_count": 19,
   "id": "22dc15c1",
   "metadata": {
    "scrolled": true
   },
   "outputs": [
    {
     "name": "stdout",
     "output_type": "stream",
     "text": [
      "Enter the Principal 4000\n",
      "Enter the rate of interest 5\n",
      "Enter the time 3\n"
     ]
    },
    {
     "ename": "TypeError",
     "evalue": "'int' object is not callable",
     "output_type": "error",
     "traceback": [
      "\u001b[1;31m---------------------------------------------------------------------------\u001b[0m",
      "\u001b[1;31mTypeError\u001b[0m                                 Traceback (most recent call last)",
      "\u001b[1;32m<ipython-input-19-df01e6f93665>\u001b[0m in \u001b[0;36m<module>\u001b[1;34m\u001b[0m\n\u001b[0;32m      2\u001b[0m \u001b[0mr\u001b[0m \u001b[1;33m=\u001b[0m \u001b[0mint\u001b[0m\u001b[1;33m(\u001b[0m\u001b[0minput\u001b[0m\u001b[1;33m(\u001b[0m\u001b[1;34m\"Enter the rate of interest \"\u001b[0m\u001b[1;33m)\u001b[0m\u001b[1;33m)\u001b[0m\u001b[1;33m\u001b[0m\u001b[1;33m\u001b[0m\u001b[0m\n\u001b[0;32m      3\u001b[0m \u001b[0mn\u001b[0m \u001b[1;33m=\u001b[0m \u001b[0mint\u001b[0m\u001b[1;33m(\u001b[0m\u001b[0minput\u001b[0m\u001b[1;33m(\u001b[0m\u001b[1;34m\"Enter the time \"\u001b[0m\u001b[1;33m)\u001b[0m\u001b[1;33m)\u001b[0m\u001b[1;33m\u001b[0m\u001b[1;33m\u001b[0m\u001b[0m\n\u001b[1;32m----> 4\u001b[1;33m \u001b[0mci\u001b[0m \u001b[1;33m=\u001b[0m \u001b[0mp\u001b[0m\u001b[1;33m(\u001b[0m\u001b[1;36m1\u001b[0m \u001b[1;33m+\u001b[0m \u001b[1;33m(\u001b[0m\u001b[0mr\u001b[0m\u001b[1;33m/\u001b[0m\u001b[1;36m100\u001b[0m\u001b[1;33m)\u001b[0m\u001b[1;33m)\u001b[0m\u001b[1;33m^\u001b[0m\u001b[0mn\u001b[0m\u001b[1;33m\u001b[0m\u001b[1;33m\u001b[0m\u001b[0m\n\u001b[0m\u001b[0;32m      5\u001b[0m \u001b[0mprint\u001b[0m\u001b[1;33m(\u001b[0m\u001b[0mci\u001b[0m\u001b[1;33m)\u001b[0m\u001b[1;33m\u001b[0m\u001b[1;33m\u001b[0m\u001b[0m\n",
      "\u001b[1;31mTypeError\u001b[0m: 'int' object is not callable"
     ]
    }
   ],
   "source": [
    "p = int(input(\"Enter the Principal \"))\n",
    "r = int(input(\"Enter the rate of interest \"))\n",
    "n = int(input(\"Enter the time \"))\n",
    "ci = p(1 + (r/100))^n\n",
    "print(ci)"
   ]
  },
  {
   "cell_type": "code",
   "execution_count": 21,
   "id": "ecbe7065",
   "metadata": {},
   "outputs": [
    {
     "name": "stdout",
     "output_type": "stream",
     "text": [
      "Enter the purchase price 50\n",
      "Enter the selling price 60\n",
      "You have made profit of  10.0\n"
     ]
    }
   ],
   "source": [
    "p = float(input(\"Enter the purchase price \"))\n",
    "s = float(input(\"Enter the selling price \"))\n",
    "profit = s - p\n",
    "print(\"You have made profit of \", profit)"
   ]
  },
  {
   "cell_type": "code",
   "execution_count": 22,
   "id": "75577799",
   "metadata": {},
   "outputs": [
    {
     "name": "stdout",
     "output_type": "stream",
     "text": [
      "Enter the purchase price 20\n",
      "Enter the selling price 15\n",
      "You have made loss of  5.0\n"
     ]
    }
   ],
   "source": [
    "p = float(input(\"Enter the purchase price \"))\n",
    "s = float(input(\"Enter the selling price \"))\n",
    "loss = p - s\n",
    "print(\"You have made loss of \", loss)"
   ]
  },
  {
   "cell_type": "code",
   "execution_count": null,
   "id": "35d6c560",
   "metadata": {},
   "outputs": [],
   "source": [
    "p = float(input(\"Enter the purchase price \"))\n",
    "s = float(input(\"Enter the selling price \"))\n",
    "if s>p:\n",
    "    pf = s-p\n",
    "    p_p = pf/p*100\n",
    "    print(\"You have made profit of \", pf)\n",
    "    print(\"You have made profit % of \", p_p)\n",
    "elif p == s:\n",
    "    print(\"No profit No loss \")\n",
    "else:\n",
    "    p>s\n",
    "    l = p-s\n",
    "    l_p = l/p*100\n",
    "    print(\"You have made loss of \", l)\n",
    "    print(\"You have made loss % of \", l_p)"
   ]
  },
  {
   "cell_type": "code",
   "execution_count": 23,
   "id": "3e23be1f",
   "metadata": {},
   "outputs": [
    {
     "name": "stdout",
     "output_type": "stream",
     "text": [
      "Enter the number11\n",
      "Number is odd\n"
     ]
    }
   ],
   "source": [
    "n = int(input(\"Enter the number\"))\n",
    "if n%2==0:\n",
    "    print(\"number is even\")\n",
    "else:\n",
    "    print(\"Number is odd\")"
   ]
  },
  {
   "cell_type": "code",
   "execution_count": 25,
   "id": "6ac4e5cc",
   "metadata": {},
   "outputs": [
    {
     "name": "stdout",
     "output_type": "stream",
     "text": [
      "Enter the number-2\n",
      "number is negative\n"
     ]
    }
   ],
   "source": [
    "n  = int(input(\"Enter the number\"))\n",
    "if n>0:\n",
    "    print(\"Number is positive\")\n",
    "else:\n",
    "    print(\"number is negative\")"
   ]
  },
  {
   "cell_type": "code",
   "execution_count": 40,
   "id": "c15d0594",
   "metadata": {},
   "outputs": [
    {
     "name": "stdout",
     "output_type": "stream",
     "text": [
      "Enter your salary 25000000\n",
      "You have to pay income tax of rupees 2500000.0\n"
     ]
    }
   ],
   "source": [
    "salary = int(input(\"Enter your salary \"))\n",
    "if salary>500000>100000:\n",
    "    incometax = salary*0.10\n",
    "    print(\"You have to pay income tax of rupees\", incometax)\n",
    "    if salary>100000>1500000:\n",
    "        incometax = salary*0.15\n",
    "        print(\"You have to pay income tax of rupees\", incometax)\n",
    "        if salary>1500000:\n",
    "            incometax = salary*0.20\n",
    "            print(\"You have to pay income tax of rupees\", incometax)\n",
    "else:\n",
    "    print(\"Youuu are out of the income tax slab\")"
   ]
  },
  {
   "cell_type": "markdown",
   "id": "c04fc0af",
   "metadata": {},
   "source": [
    "Budget = int(input(\"Enter your budget \"))\n",
    "if Budget>500:\n",
    "    dest = Budget ('Place Goa')\n",
    "    print(\"Your destination will be \", dest)\n",
    "else:\n",
    "    print(\"You are out of budget \")"
   ]
  },
  {
   "cell_type": "code",
   "execution_count": 79,
   "id": "411ea7fe",
   "metadata": {},
   "outputs": [
    {
     "name": "stdout",
     "output_type": "stream",
     "text": [
      "Enter the number 5\n",
      "modulus of number is 5\n"
     ]
    }
   ],
   "source": [
    "n = int(input(\"Enter the number \"))\n",
    "if n<0:\n",
    "    modulus = n*(-1)\n",
    "    print(\"Modulus of number is \", modulus)\n",
    "else:\n",
    "    print(\"modulus of number is\", modulus)"
   ]
  },
  {
   "cell_type": "code",
   "execution_count": 85,
   "id": "456454d6",
   "metadata": {},
   "outputs": [
    {
     "name": "stdout",
     "output_type": "stream",
     "text": [
      "Enter the first number 6\n",
      "Enter the second number 5\n",
      "Number is greatest 6\n",
      "Number is smallest 5\n"
     ]
    }
   ],
   "source": [
    "n1 = int(input(\"Enter the first number \"))\n",
    "n2 = int(input(\"Enter the second number \"))\n",
    "if n1>n2:\n",
    "    print(\"Number is greatest\", n1)\n",
    "    print(\"Number is smallest\", n2)\n",
    "elif n1 == n2:\n",
    "    print(\"Both number are equals\")\n",
    "else:\n",
    "    print(\"Number is greatest\", n2)\n",
    "    print(\"Number is smallest\", n1)"
   ]
  },
  {
   "cell_type": "code",
   "execution_count": 88,
   "id": "922c9383",
   "metadata": {},
   "outputs": [
    {
     "name": "stdout",
     "output_type": "stream",
     "text": [
      "Enter the first number 5\n",
      "Enter the second number 4\n",
      "Enter the third number 3\n",
      "Number is greatest 3\n",
      "Number is smallest 5\n"
     ]
    }
   ],
   "source": [
    "n1 = int(input(\"Enter the first number \"))\n",
    "n2 = int(input(\"Enter the second number \"))\n",
    "n3 = int(input(\"Enter the third number \"))\n",
    "if n1>n2:\n",
    "    if n1>n3:\n",
    "    print(\"Number is greatest\", n1)\n",
    "    else:\n",
    "    print(\"Number is smallest\", n)\n",
    "    if n1>n2 and n1<n3:\n",
    "        print(\"Number is greatest\", n3)\n",
    "        print(\"Number is smallest\", n2)\n",
    "        \n",
    "elif n1 == n2 == n3:\n",
    "    print(\"Both number are equals\")\n",
    "else:\n",
    "    n1<n2 and n2<n3\n",
    "    print(\"Number is greatest\", n3)\n",
    "    print(\"Number is smallest\", n1)"
   ]
  },
  {
   "cell_type": "code",
   "execution_count": null,
   "id": "b4c889c5",
   "metadata": {},
   "outputs": [],
   "source": []
  },
  {
   "cell_type": "markdown",
   "id": "904ff7aa",
   "metadata": {},
   "source": [
    "a = int(input(\"Enter your age \"))\n",
    "ans = input(\"Do you have license (Yes/No)\")\n",
    "if a<18:\n",
    "    if ans == 'Yes':\n",
    "        print(\"You are eligible for driving\")\n",
    "    else:\n",
    "        print(\"You are not eligible for driving\")\n",
    "else:\n",
    "    a<18\n",
    "    print(\"You can only drive when you get the license\")"
   ]
  },
  {
   "cell_type": "markdown",
   "id": "12b7b1a9",
   "metadata": {},
   "source": [
    "# Loops\n",
    "\n",
    "## SYNTAX FOR\n",
    "for i in range ():\n"
   ]
  },
  {
   "cell_type": "code",
   "execution_count": 111,
   "id": "575c91bb",
   "metadata": {},
   "outputs": [
    {
     "name": "stdout",
     "output_type": "stream",
     "text": [
      "Odd 1\n",
      "Even 2\n",
      "Odd 3\n",
      "Even 4\n",
      "Odd 5\n",
      "Even 6\n",
      "Odd 7\n",
      "Even 8\n",
      "Odd 9\n",
      "Even 10\n"
     ]
    }
   ],
   "source": [
    "n = 10\n",
    "for i in range (1,n+1):\n",
    "    if i % 2==0:\n",
    "        print(\"Even\",i)\n",
    "    else:\n",
    "        print(\"Odd\",i)"
   ]
  },
  {
   "cell_type": "code",
   "execution_count": 114,
   "id": "f4e90b4f",
   "metadata": {},
   "outputs": [
    {
     "name": "stdout",
     "output_type": "stream",
     "text": [
      "Sum of n Natural numbers 55\n"
     ]
    }
   ],
   "source": [
    "n = 10\n",
    "s = 0\n",
    "for i in range(1, n+1):\n",
    "    s+=i\n",
    "print(\"Sum of n Natural numbers\", s)"
   ]
  },
  {
   "cell_type": "code",
   "execution_count": 116,
   "id": "7577cd06",
   "metadata": {},
   "outputs": [
    {
     "name": "stdout",
     "output_type": "stream",
     "text": [
      "Factorial of 5 is  120\n"
     ]
    }
   ],
   "source": [
    "n = 5\n",
    "s = 1\n",
    "for i in range(1, n+1):\n",
    "    s*=i\n",
    "print(\"Factorial of 5 is \", s)"
   ]
  },
  {
   "cell_type": "code",
   "execution_count": 122,
   "id": "3d37ed8b",
   "metadata": {},
   "outputs": [
    {
     "name": "stdout",
     "output_type": "stream",
     "text": [
      "Enter the number table 5\n",
      "5 x 1 = 5\n",
      "5 x 2 = 10\n",
      "5 x 3 = 15\n",
      "5 x 4 = 20\n",
      "5 x 5 = 25\n",
      "5 x 6 = 30\n",
      "5 x 7 = 35\n",
      "5 x 8 = 40\n",
      "5 x 9 = 45\n",
      "5 x 10 = 50\n"
     ]
    }
   ],
   "source": [
    "n = int(input(\"Enter the number table \"))\n",
    "f = 10\n",
    "s = 0\n",
    "for i in range(1, f+1):\n",
    "    s = n * i\n",
    "    print(n, \"x\",i,\"=\", s)"
   ]
  },
  {
   "cell_type": "markdown",
   "id": "838b5b15",
   "metadata": {},
   "source": [
    "## Nested for loop"
   ]
  },
  {
   "cell_type": "code",
   "execution_count": 123,
   "id": "a6deb59a",
   "metadata": {},
   "outputs": [
    {
     "name": "stdout",
     "output_type": "stream",
     "text": [
      "* * * \n",
      "* * * \n",
      "* * * \n"
     ]
    }
   ],
   "source": [
    "for i in range(3):\n",
    "    for j in range(3):\n",
    "        print(\"*\",end=\" \")\n",
    "    print()"
   ]
  },
  {
   "cell_type": "code",
   "execution_count": 125,
   "id": "bcb890b2",
   "metadata": {},
   "outputs": [
    {
     "name": "stdout",
     "output_type": "stream",
     "text": [
      "* * * * \n",
      "* * * * \n",
      "* * * * \n",
      "* * * * \n"
     ]
    }
   ],
   "source": [
    "for i in range(4):\n",
    "    for j in range(4):\n",
    "        print(\"*\",end=\" \")\n",
    "    print()"
   ]
  },
  {
   "cell_type": "code",
   "execution_count": 132,
   "id": "a9ebb071",
   "metadata": {},
   "outputs": [
    {
     "name": "stdout",
     "output_type": "stream",
     "text": [
      "* \n",
      "* * \n",
      "* * * \n",
      "* * * * \n"
     ]
    }
   ],
   "source": [
    "for i in range(1):\n",
    "    for j in range(1):\n",
    "        print(\"*\",end=\" \")\n",
    "    print()\n",
    "    for k in range(2):\n",
    "        print(\"*\",end=\" \")\n",
    "    print()\n",
    "    for l in range(3):\n",
    "        print(\"*\",end=\" \")\n",
    "    print()\n",
    "    for m in range(4):\n",
    "        print(\"*\",end=\" \")\n",
    "    print()"
   ]
  },
  {
   "cell_type": "code",
   "execution_count": 133,
   "id": "721a85e9",
   "metadata": {},
   "outputs": [
    {
     "name": "stdout",
     "output_type": "stream",
     "text": [
      "* * * * \n",
      "* * * \n",
      "* * \n",
      "* \n"
     ]
    }
   ],
   "source": [
    "for i in range(1):\n",
    "    for j in range(4):\n",
    "        print(\"*\",end=\" \")\n",
    "    print()\n",
    "    for k in range(3):\n",
    "        print(\"*\",end=\" \")\n",
    "    print()\n",
    "    for l in range(2):\n",
    "        print(\"*\",end=\" \")\n",
    "    print()\n",
    "    for m in range(1):\n",
    "        print(\"*\",end=\" \")\n",
    "    print()"
   ]
  },
  {
   "cell_type": "code",
   "execution_count": 134,
   "id": "a67480f5",
   "metadata": {},
   "outputs": [
    {
     "name": "stdout",
     "output_type": "stream",
     "text": [
      "* \n",
      "* * * \n",
      "* * * * * \n",
      "* * * * * * * \n"
     ]
    }
   ],
   "source": [
    "for i in range(1):\n",
    "    for j in range(1):\n",
    "        print(\"*\",end=\" \")\n",
    "    print()\n",
    "    for k in range(3):\n",
    "        print(\"*\",end=\" \")\n",
    "    print()\n",
    "    for l in range(5):\n",
    "        print(\"*\",end=\" \")\n",
    "    print()\n",
    "    for m in range(7):\n",
    "        print(\"*\",end=\" \")\n",
    "    print()"
   ]
  },
  {
   "cell_type": "code",
   "execution_count": 139,
   "id": "c327aba0",
   "metadata": {},
   "outputs": [
    {
     "name": "stdout",
     "output_type": "stream",
     "text": [
      "enter the rows 5\n",
      "*  \n",
      "* *  \n",
      "* * *  \n",
      "* * * *  \n",
      "* * * * *  \n"
     ]
    }
   ],
   "source": [
    "n = int(input(\"enter the rows \"))\n",
    "\n",
    "for i in range(1,n+1):\n",
    "    for j in range(i):\n",
    "        print(\"*\",end=\" \")\n",
    "    print(\" \")"
   ]
  },
  {
   "cell_type": "code",
   "execution_count": 140,
   "id": "ef28b2ce",
   "metadata": {},
   "outputs": [
    {
     "name": "stdout",
     "output_type": "stream",
     "text": [
      "enter the rows 5\n",
      "* * * * *  \n",
      "* * * *  \n",
      "* * *  \n",
      "* *  \n",
      "*  \n"
     ]
    }
   ],
   "source": [
    "n = int(input(\"enter the rows \"))\n",
    "\n",
    "for i in range(n,0,-1):\n",
    "    for j in range(i):\n",
    "        print(\"*\",end=\" \")\n",
    "    print(\" \")"
   ]
  },
  {
   "cell_type": "code",
   "execution_count": null,
   "id": "844a7b0b",
   "metadata": {},
   "outputs": [],
   "source": [
    "## While loop\n",
    "\n",
    "Syntax\n",
    "vat initilization\n",
    "while(condition):\n",
    "    statement\n",
    "    decrement/increment"
   ]
  },
  {
   "cell_type": "code",
   "execution_count": 143,
   "id": "4c1c2331",
   "metadata": {},
   "outputs": [
    {
     "name": "stdout",
     "output_type": "stream",
     "text": [
      "1\n",
      "2\n",
      "3\n",
      "4\n",
      "5\n",
      "6\n",
      "7\n",
      "8\n",
      "9\n",
      "10\n",
      "Rest of the code\n"
     ]
    }
   ],
   "source": [
    "a = 1\n",
    "while a<=10:\n",
    "    print(a)\n",
    "    a+=1\n",
    "print(\"Rest of the code\")"
   ]
  },
  {
   "cell_type": "code",
   "execution_count": 1,
   "id": "8c1a0e56",
   "metadata": {},
   "outputs": [
    {
     "name": "stdout",
     "output_type": "stream",
     "text": [
      "enter the rows 4\n",
      "*  \n",
      "* *  \n",
      "* * *  \n",
      "* * * *  \n"
     ]
    }
   ],
   "source": [
    "n = int(input(\"enter the rows \"))\n",
    "\n",
    "for i in range(1,n+1):\n",
    "    for j in range(i):\n",
    "        print(\"*\",end=\" \")\n",
    "    print(\" \")"
   ]
  },
  {
   "cell_type": "code",
   "execution_count": 4,
   "id": "f9998b76",
   "metadata": {},
   "outputs": [
    {
     "name": "stdout",
     "output_type": "stream",
     "text": [
      "enter the rows 4\n",
      "*  \n",
      "* *  \n",
      "* * *  \n",
      "* * * *  \n"
     ]
    }
   ],
   "source": [
    "n = int(input(\"enter the rows \"))\n",
    "\n",
    "for i in range(1,n+1):\n",
    "    for j in range(i):\n",
    "        print(\"*\",end=\" \")\n",
    "    print(\" \")"
   ]
  },
  {
   "cell_type": "code",
   "execution_count": 6,
   "id": "7e9d2315",
   "metadata": {},
   "outputs": [
    {
     "name": "stdout",
     "output_type": "stream",
     "text": [
      "Python version\n",
      "3.8.8 (default, Apr 13 2021, 15:08:03) [MSC v.1916 64 bit (AMD64)]\n",
      "Version info.\n",
      "sys.version_info(major=3, minor=8, micro=8, releaselevel='final', serial=0)\n"
     ]
    }
   ],
   "source": [
    "import sys\n",
    "print(\"Python version\")\n",
    "print (sys.version)\n",
    "print(\"Version info.\")\n",
    "print (sys.version_info)"
   ]
  },
  {
   "cell_type": "code",
   "execution_count": 11,
   "id": "65c5f312",
   "metadata": {},
   "outputs": [
    {
     "name": "stdout",
     "output_type": "stream",
     "text": [
      "Current date and time : \n",
      "2021-10-30 12:32:27\n"
     ]
    }
   ],
   "source": [
    "import datetime\n",
    "now = datetime.datetime.now()\n",
    "print (\"Current date and time : \")\n",
    "print (now.strftime(\"%Y-%m-%d %H:%M:%S\"))"
   ]
  },
  {
   "cell_type": "code",
   "execution_count": 19,
   "id": "72b497df",
   "metadata": {},
   "outputs": [
    {
     "name": "stdout",
     "output_type": "stream",
     "text": [
      "Enter the radius of the circle 1.1\n",
      "The area of circle is  3.7994000000000008\n"
     ]
    }
   ],
   "source": [
    "r = float(input(\"Enter the radius of the circle \"))\n",
    "Area = 3.14*r*r\n",
    "print(\"The area of circle is \", Area)"
   ]
  },
  {
   "cell_type": "code",
   "execution_count": 21,
   "id": "a650d50d",
   "metadata": {},
   "outputs": [
    {
     "name": "stdout",
     "output_type": "stream",
     "text": [
      "Enter the first name Akash\n",
      "Enter the last name Alkhania\n",
      "After reversing the name is  Alkhania Akash\n"
     ]
    }
   ],
   "source": [
    "f = input(\"Enter the first name \")\n",
    "l = input(\"Enter the last name \")\n",
    "reverse = l + ' ' + f\n",
    "print(\"After reversing the name is \",reverse)"
   ]
  },
  {
   "cell_type": "code",
   "execution_count": 51,
   "id": "6a3352cd",
   "metadata": {},
   "outputs": [
    {
     "name": "stdout",
     "output_type": "stream",
     "text": [
      "Enter the file name akash.java\n",
      "Extension of the file name is'akash'\n"
     ]
    }
   ],
   "source": [
    "filename = input(\"Enter the file name \")\n",
    "extension = filename.split(\".\")\n",
    "print(\"Extension of the file name is\" + repr(extension[-1]))"
   ]
  },
  {
   "cell_type": "code",
   "execution_count": 64,
   "id": "45a2272d",
   "metadata": {},
   "outputs": [
    {
     "name": "stdout",
     "output_type": "stream",
     "text": [
      "Red\n",
      "Black\n"
     ]
    }
   ],
   "source": [
    "color_list = [\"Red\",\"Green\",\"White\" ,\"Black\"]\n",
    "print(color_list[0])\n",
    "print(color_list[-1])"
   ]
  },
  {
   "cell_type": "code",
   "execution_count": 72,
   "id": "bb4e715b",
   "metadata": {},
   "outputs": [
    {
     "name": "stdout",
     "output_type": "stream",
     "text": [
      "The examination will start from 11 / 12 / 2014\n"
     ]
    }
   ],
   "source": [
    "exam_st_date = (11,12,2014)\n",
    "new = \"%i / %i / %i\"%exam_st_date\n",
    "print( \"The examination will start from\", new)"
   ]
  },
  {
   "cell_type": "code",
   "execution_count": 81,
   "id": "6d139059",
   "metadata": {},
   "outputs": [
    {
     "name": "stdout",
     "output_type": "stream",
     "text": [
      "Enter the number 6\n",
      "738\n"
     ]
    }
   ],
   "source": [
    "n = int(input(\"Enter the number \"))\n",
    "new = n*1 + n*11 + n*111\n",
    "print(new)"
   ]
  },
  {
   "cell_type": "code",
   "execution_count": 87,
   "id": "a629c11a",
   "metadata": {},
   "outputs": [
    {
     "name": "stdout",
     "output_type": "stream",
     "text": [
      "Enter the year2021\n",
      "Enter the month10\n",
      "    October 2021\n",
      "Mo Tu We Th Fr Sa Su\n",
      "             1  2  3\n",
      " 4  5  6  7  8  9 10\n",
      "11 12 13 14 15 16 17\n",
      "18 19 20 21 22 23 24\n",
      "25 26 27 28 29 30 31\n",
      "\n"
     ]
    }
   ],
   "source": [
    "import calendar\n",
    "y = int(input(\"Enter the year\"))\n",
    "m = int(input(\"Enter the month\"))\n",
    "print(calendar.month(y, m))"
   ]
  },
  {
   "cell_type": "code",
   "execution_count": 89,
   "id": "2896ccfe",
   "metadata": {},
   "outputs": [
    {
     "name": "stdout",
     "output_type": "stream",
     "text": [
      "9\n"
     ]
    }
   ],
   "source": [
    "date1 = [2014,7,2]\n",
    "date2 = [2014,7,11]\n",
    "days = date2[-1] - date1[-1]\n",
    "print(days)"
   ]
  },
  {
   "cell_type": "code",
   "execution_count": 91,
   "id": "56739841",
   "metadata": {},
   "outputs": [
    {
     "name": "stdout",
     "output_type": "stream",
     "text": [
      "Enter the radius of the sphere 6\n",
      "Area of a sphere is 904.3199999999998\n"
     ]
    }
   ],
   "source": [
    "r = int(input(\"Enter the radius of the sphere \"))\n",
    "area = (4/3)*3.14*r*r*r\n",
    "print(\"Area of a sphere is\", area)"
   ]
  },
  {
   "cell_type": "code",
   "execution_count": 94,
   "id": "5fee1b3d",
   "metadata": {},
   "outputs": [
    {
     "name": "stdout",
     "output_type": "stream",
     "text": [
      "Enter the number 22\n",
      "10\n"
     ]
    }
   ],
   "source": [
    "n = int(input(\"Enter the number \"))\n",
    "if n>17:\n",
    "    new = (n-17)*2\n",
    "    print(new)\n",
    "else:\n",
    "    new = (n-17)*-1\n",
    "    print(new)"
   ]
  },
  {
   "cell_type": "code",
   "execution_count": 126,
   "id": "25312357",
   "metadata": {},
   "outputs": [
    {
     "name": "stdout",
     "output_type": "stream",
     "text": [
      "Enter the number 3\n",
      "Enter the number 3\n",
      " Enter the number 3\n",
      "27\n"
     ]
    }
   ],
   "source": [
    "a = int(input(\"Enter the number \"))\n",
    "b = int(input(\"Enter the number \"))\n",
    "c = int(input(\"Enter the number \"))\n",
    "if (a==b==c):\n",
    "    new = (a+b+c)*3\n",
    "    print(new)\n",
    "else:\n",
    "    new = a+b+c\n",
    "    print(new)"
   ]
  },
  {
   "cell_type": "code",
   "execution_count": 129,
   "id": "bb1edb65",
   "metadata": {},
   "outputs": [
    {
     "name": "stdout",
     "output_type": "stream",
     "text": [
      "enter the string .py\n",
      ".py.py.py\n"
     ]
    }
   ],
   "source": [
    "name = input(\"enter the string \")\n",
    "new = name*3\n",
    "print(new)"
   ]
  },
  {
   "cell_type": "code",
   "execution_count": 130,
   "id": "057bb98d",
   "metadata": {},
   "outputs": [
    {
     "name": "stdout",
     "output_type": "stream",
     "text": [
      "Enter the number 5\n",
      "Number is odd\n"
     ]
    }
   ],
   "source": [
    "n = int(input(\"Enter the number \"))\n",
    "if n%2==0:\n",
    "    print(\"Number is even\")\n",
    "else:\n",
    "    print(\"Number is odd\")"
   ]
  },
  {
   "cell_type": "code",
   "execution_count": 20,
   "id": "5bd718d1",
   "metadata": {},
   "outputs": [
    {
     "name": "stdout",
     "output_type": "stream",
     "text": [
      "0\n"
     ]
    }
   ],
   "source": [
    "mu_tuple = [1,4,6,7,4]\n",
    "print(mu_tuple.count(4))"
   ]
  },
  {
   "cell_type": "code",
   "execution_count": 149,
   "id": "ed4bb4f0",
   "metadata": {},
   "outputs": [
    {
     "name": "stdout",
     "output_type": "stream",
     "text": [
      "abab\n"
     ]
    }
   ],
   "source": [
    "mu_tuple = ('abcdef')\n",
    "print(mu_tuple[:2]*2)"
   ]
  },
  {
   "cell_type": "code",
   "execution_count": 19,
   "id": "c4322e6a",
   "metadata": {},
   "outputs": [
    {
     "name": "stdout",
     "output_type": "stream",
     "text": [
      "False\n",
      "True\n"
     ]
    }
   ],
   "source": [
    "def is_vowel(char):\n",
    "    all_vowels = 'aeiou'\n",
    "    return char in all_vowels\n",
    "print(is_vowel('c'))\n",
    "print(is_vowel('e'))"
   ]
  },
  {
   "cell_type": "code",
   "execution_count": 29,
   "id": "cb5c9756",
   "metadata": {},
   "outputs": [
    {
     "name": "stdout",
     "output_type": "stream",
     "text": [
      "{'White', 'Black'}\n"
     ]
    }
   ],
   "source": [
    "color_list_1 = set([\"Black\", \"White\", \"Red\"])\n",
    "color_list_2 = set([\"Red\", \"Green\"])\n",
    "Output = color_list_1-color_list_2\n",
    "print(Output)"
   ]
  },
  {
   "cell_type": "code",
   "execution_count": 31,
   "id": "7407272c",
   "metadata": {},
   "outputs": [
    {
     "name": "stdout",
     "output_type": "stream",
     "text": [
      "enter the base of the traingle 2\n",
      " enter the height of the traingle 4\n",
      "Area of the traingle 4.0\n"
     ]
    }
   ],
   "source": [
    "b = int(input(\"enter the base of the traingle \"))\n",
    "h = int(input(\"enter the height of the traingle \"))\n",
    "area = (1/2)*b*h\n",
    "print(\"Area of the traingle\", area)"
   ]
  },
  {
   "cell_type": "markdown",
   "id": "abe55c71",
   "metadata": {},
   "source": [
    "def gcd(x, y):\n",
    "   gcd = 1   \n",
    "   if x % y == 0:\n",
    "       return y   \n",
    "   for k in range(int(y / 2), 0, -1):\n",
    "       if x % k == 0 and y % k == 0:\n",
    "           gcd = k\n",
    "           break \n",
    "   return gcd\n",
    "print(\"GCD of 12 & 17 =\",gcd(12, 17))\n",
    "print(\"GCD of 4 & 6 =\",gcd(4, 6))\n",
    "print(\"GCD of 336 & 360 =\",gcd(336, 360))"
   ]
  },
  {
   "cell_type": "code",
   "execution_count": 49,
   "id": "f2277a0f",
   "metadata": {},
   "outputs": [
    {
     "name": "stdout",
     "output_type": "stream",
     "text": [
      "Enter the first number 1\n",
      "Enter the second number 2\n",
      "Enter the third number 3\n",
      "answer is 6\n"
     ]
    }
   ],
   "source": [
    "a1 = int(input(\"Enter the first number \"))\n",
    "a2 = int(input(\"Enter the second number \"))\n",
    "a3 = int(input(\"Enter the third number \"))\n",
    "if a1 == a2 or a1 == a3 or a2 == a3:\n",
    "    ans = 0\n",
    "    print(\"answer is\", ans)\n",
    "else:\n",
    "    ans = a1+a2+a3\n",
    "    print(\"answer is\", ans)"
   ]
  },
  {
   "cell_type": "code",
   "execution_count": 73,
   "id": "b3e4c09f",
   "metadata": {},
   "outputs": [
    {
     "name": "stdout",
     "output_type": "stream",
     "text": [
      "Enter the first number 20\n",
      "Enter the second number 50\n",
      "answer is 70\n"
     ]
    }
   ],
   "source": [
    "a1 = int(input(\"Enter the first number \"))\n",
    "a2 = int(input(\"Enter the second number \"))\n",
    "ans = a1+a2\n",
    "if 15<ans<20:\n",
    "    print (\"answer is\", 20)\n",
    "else:\n",
    "    print (\"answer is\", ans)"
   ]
  },
  {
   "cell_type": "code",
   "execution_count": 127,
   "id": "d7d250e5",
   "metadata": {},
   "outputs": [
    {
     "ename": "IndentationError",
     "evalue": "unexpected indent (<ipython-input-127-ddc8f8d2b441>, line 10)",
     "output_type": "error",
     "traceback": [
      "\u001b[1;36m  File \u001b[1;32m\"<ipython-input-127-ddc8f8d2b441>\"\u001b[1;36m, line \u001b[1;32m10\u001b[0m\n\u001b[1;33m    ans2 = n1+n2\u001b[0m\n\u001b[1;37m    ^\u001b[0m\n\u001b[1;31mIndentationError\u001b[0m\u001b[1;31m:\u001b[0m unexpected indent\n"
     ]
    }
   ],
   "source": [
    "n1= int(input(\"Enter the first number \"))\n",
    "n2= int(input(\"Enter the second number \"))\n",
    "if n1!=n2:\n",
    "    ans1 = n1 - n2\n",
    "    if ans1 == 5:\n",
    "        print(\"True\")\n",
    "    else:\n",
    "        print(\"False\")\n",
    "    ans2 = n1+n2\n",
    "    if ans2 == 5:\n",
    "        print(\"True\")\n",
    "    else:\n",
    "        print(\"False\")\n",
    "else:\n",
    "    n1 == n2\n",
    "    print(\"True\")"
   ]
  },
  {
   "cell_type": "code",
   "execution_count": 98,
   "id": "472cf834",
   "metadata": {},
   "outputs": [
    {
     "name": "stdout",
     "output_type": "stream",
     "text": [
      "Enter the first number 2\n",
      "Enter the second number 2\n",
      "True\n"
     ]
    }
   ],
   "source": [
    "n1= int(input(\"Enter the first number \"))\n",
    "n2= int(input(\"Enter the second number \"))\n",
    "ans = n1 == n2\n",
    "if ans != 5:\n",
    "    print(\"True\")\n",
    "else:\n",
    "    print(\"False\")"
   ]
  },
  {
   "cell_type": "code",
   "execution_count": null,
   "id": "64303209",
   "metadata": {},
   "outputs": [],
   "source": []
  }
 ],
 "metadata": {
  "kernelspec": {
   "display_name": "Python 3",
   "language": "python",
   "name": "python3"
  },
  "language_info": {
   "codemirror_mode": {
    "name": "ipython",
    "version": 3
   },
   "file_extension": ".py",
   "mimetype": "text/x-python",
   "name": "python",
   "nbconvert_exporter": "python",
   "pygments_lexer": "ipython3",
   "version": "3.8.8"
  }
 },
 "nbformat": 4,
 "nbformat_minor": 5
}
